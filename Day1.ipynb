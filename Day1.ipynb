{
  "nbformat": 4,
  "nbformat_minor": 0,
  "metadata": {
    "colab": {
      "provenance": []
    },
    "kernelspec": {
      "name": "python3",
      "display_name": "Python 3"
    },
    "language_info": {
      "name": "python"
    }
  },
  "cells": [
    {
      "cell_type": "code",
      "source": [
        "def square(x):\n",
        " return x**2"
      ],
      "metadata": {
        "id": "HVyeeFH7qrnF"
      },
      "execution_count": null,
      "outputs": []
    },
    {
      "cell_type": "code",
      "source": [
        "square_lambda=lambda x:x**2\n",
        "print(f\"Regular function: {square(5)}\")\n",
        "print(f\"Lambda function: {square_lambda(5)}\")"
      ],
      "metadata": {
        "colab": {
          "base_uri": "https://localhost:8080/"
        },
        "id": "adUbbJOWwy30",
        "outputId": "ff328d20-261c-4ece-bffc-3133180f8132"
      },
      "execution_count": null,
      "outputs": [
        {
          "output_type": "stream",
          "name": "stdout",
          "text": [
            "Regular function: 25\n",
            "Lambda function: 25\n"
          ]
        }
      ]
    },
    {
      "cell_type": "code",
      "source": [
        "multiply = lambda x, y: x * y\n",
        "print(f\"Multiply: {multiply(3, 4)}\")\n",
        "\n"
      ],
      "metadata": {
        "colab": {
          "base_uri": "https://localhost:8080/"
        },
        "id": "tvulu6GrxnqN",
        "outputId": "c75d25d8-b80b-4424-ffac-9cefc2bd8ec6"
      },
      "execution_count": null,
      "outputs": [
        {
          "output_type": "stream",
          "name": "stdout",
          "text": [
            "Multiply: 12\n"
          ]
        }
      ]
    },
    {
      "cell_type": "code",
      "source": [
        "numbers=[1,2,3,4,5]\n",
        "squared=list(map(lambda x:x**2,numbers))\n",
        "print(f\"Squared numbers: {squared}\")"
      ],
      "metadata": {
        "colab": {
          "base_uri": "https://localhost:8080/"
        },
        "id": "UyWb54rOyhsG",
        "outputId": "8bc265ad-b19e-4385-ce9b-364005f47f1d"
      },
      "execution_count": null,
      "outputs": [
        {
          "output_type": "stream",
          "name": "stdout",
          "text": [
            "Squared numbers: [1, 4, 9, 16, 25]\n"
          ]
        }
      ]
    },
    {
      "cell_type": "code",
      "source": [
        "ages=[16,21,35,12,45,18,67]\n",
        "adults=list(filter(lambda age: age>=18,ages))\n",
        "print(f\"Adults ages: {adults}\")"
      ],
      "metadata": {
        "colab": {
          "base_uri": "https://localhost:8080/"
        },
        "id": "N0SfgifGzULM",
        "outputId": "ee8fef21-149d-412b-b720-eb0b96f3cb9f"
      },
      "execution_count": null,
      "outputs": [
        {
          "output_type": "stream",
          "name": "stdout",
          "text": [
            "Adults ages: [21, 35, 45, 18, 67]\n"
          ]
        }
      ]
    },
    {
      "cell_type": "code",
      "source": [
        "people=[\n",
        "    {\"name\":\"Alice\",\"age\":30},\n",
        "    {\"name\":\"Bob\",\"age\":25},\n",
        "    {\"name\":\"Charlie\",\"age\":35}\n",
        "]\n",
        "\n",
        "sorted_people=sorted(people, key=lambda person:person[\"age\"])\n",
        "print(\"people sorted by age:\")\n",
        "\n",
        "for person in sorted_people:\n",
        "  print(f\"{person['name']}: {person['age']}\")"
      ],
      "metadata": {
        "colab": {
          "base_uri": "https://localhost:8080/"
        },
        "id": "JF54Vhac1yO3",
        "outputId": "558ef92c-da82-4a33-bc47-262814c23cea"
      },
      "execution_count": null,
      "outputs": [
        {
          "output_type": "stream",
          "name": "stdout",
          "text": [
            "people sorted by age:\n",
            "Bob: 25\n",
            "Alice: 30\n",
            "Charlie: 35\n"
          ]
        }
      ]
    },
    {
      "cell_type": "code",
      "source": [
        "def create_library_system():\n",
        "  \"\"\"\n",
        "  Create a simple library management system\n",
        "  \"\"\"\n",
        "  books = []\n",
        "\n",
        "  def add_book(title,author,isbn,available=True):\n",
        "    book={\n",
        "        \"title\":title,\n",
        "        \"author\":author,\n",
        "        \"isbn\":isbn,\n",
        "        \"available\":available\n",
        "    }\n",
        "    books.append(book)\n",
        "    print(f\"Added: {title} by {author}\")\n",
        "\n",
        "  def find_book(title):\n",
        "    for book in books:\n",
        "      if book[\"title\"].lower()==title.lower():\n",
        "        return book\n",
        "      return None\n",
        "\n",
        "  def checkout_book(title):\n",
        "    book=find_book(title)\n",
        "    if book and book[\"available\"]:\n",
        "     book[\"available\"]=False\n",
        "     print(f\"Checked out: {title}\")\n",
        "     return True\n",
        "    else:\n",
        "      print(f\"Book not available: {title}\")\n",
        "      return False\n",
        "\n",
        "  def return_book(title):\n",
        "    book=find_book(title)\n",
        "    if book:\n",
        "      book[\"available\"]=True\n",
        "      print(f\"Returned: {title}\")\n",
        "      return True\n",
        "    else:\n",
        "      printt(f\"Book not found: {title}\")\n",
        "      return False\n",
        "\n",
        "  def list_available_books():\n",
        "    available=[book for book in books if book[\"available\"]]\n",
        "    print(\"Available books:\")\n",
        "    for book in available:\n",
        "      print(f\" - {book['title']} by {book['author']}\")\n",
        "      return available\n",
        "\n",
        "  return add_book, find_book, checkout_book, return_book, list_available_books"
      ],
      "metadata": {
        "id": "So6q4KoC2bym"
      },
      "execution_count": null,
      "outputs": []
    },
    {
      "cell_type": "code",
      "source": [],
      "metadata": {
        "id": "5Urpu3UDCHYy"
      },
      "execution_count": null,
      "outputs": []
    }
  ]
}